{
  "metadata": {
    "kernelspec": {
      "name": "python",
      "display_name": "Python (Pyodide)",
      "language": "python"
    },
    "language_info": {
      "codemirror_mode": {
        "name": "python",
        "version": 3
      },
      "file_extension": ".py",
      "mimetype": "text/x-python",
      "name": "python",
      "nbconvert_exporter": "python",
      "pygments_lexer": "ipython3",
      "version": "3.8"
    }
  },
  "nbformat_minor": 5,
  "nbformat": 4,
  "cells": [
    {
      "id": "c1b7de0d-a4c9-4713-a1f7-d4a45782f246",
      "cell_type": "markdown",
      "source": "# Data Science Tools and Ecosystem\n",
      "metadata": {}
    },
    {
      "id": "9b67464a-35dd-4ce4-8147-d31676b4131c",
      "cell_type": "markdown",
      "source": "In this notebook, Data Science Tools and Ecosystem are summarized",
      "metadata": {}
    },
    {
      "id": "65922fbc-05d5-4056-a53a-5542c28292fa",
      "cell_type": "markdown",
      "source": "Objectives:\nList popular languages for Data Science, list some of the most used libraries by Data Scientists and list tools commonly used in Data Science",
      "metadata": {}
    },
    {
      "id": "0ef9321e-8e79-466d-a19b-03eec9014a0d",
      "cell_type": "markdown",
      "source": "Some of the popular languages that Data Scientists use are:\n1. Python\n2. R\n3. C++",
      "metadata": {}
    },
    {
      "id": "f5ca5b52-9135-405e-ae0c-577fd3c54f61",
      "cell_type": "markdown",
      "source": "Some of the commonly used libraries used by Data Scientists include:\n1. Pandas\n2. Numpy\n3. ggplot\n4. caret",
      "metadata": {}
    },
    {
      "id": "7378ffa0-3e9a-4e9f-a397-ded52a39fa28",
      "cell_type": "markdown",
      "source": "Data Science Tools:\n1. Github\n2. Python\n3. R\n4. Jupyter Notebook\n\n",
      "metadata": {}
    },
    {
      "id": "b475b442-d2c5-4c98-a1d2-71006d99bad9",
      "cell_type": "markdown",
      "source": "### Below are a few examples of evaluating arithmetic expressions in Python\n\n",
      "metadata": {}
    },
    {
      "id": "66671c90-164f-4501-9970-62f2607ec370",
      "cell_type": "markdown",
      "source": "This a simple arithmetic expression to mutiply then add integers",
      "metadata": {}
    },
    {
      "id": "e26fd172-649d-496d-899a-2fb1c23f1bbb",
      "cell_type": "code",
      "source": "(3*4)+5",
      "metadata": {
        "trusted": true
      },
      "outputs": [
        {
          "execution_count": 8,
          "output_type": "execute_result",
          "data": {
            "text/plain": "17"
          },
          "metadata": {}
        }
      ],
      "execution_count": 8
    },
    {
      "id": "6b29744c-f135-42ee-99f2-cddc9dc7ea30",
      "cell_type": "markdown",
      "source": "This will convert 200 minutes to hours by diving by 60",
      "metadata": {}
    },
    {
      "id": "837565aa-4650-4fbf-adab-430fbc7e783b",
      "cell_type": "code",
      "source": "200/60",
      "metadata": {
        "trusted": true
      },
      "outputs": [
        {
          "execution_count": 12,
          "output_type": "execute_result",
          "data": {
            "text/plain": "3.3333333333333335"
          },
          "metadata": {}
        }
      ],
      "execution_count": 12
    },
    {
      "id": "b5f2c54d-ec3c-48ab-8c14-9dfb20df799d",
      "cell_type": "markdown",
      "source": "## Autor\n Victor Ruiz",
      "metadata": {}
    }
  ]
}